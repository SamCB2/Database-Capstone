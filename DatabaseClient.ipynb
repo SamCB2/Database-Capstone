{
 "cells": [
  {
   "cell_type": "code",
   "execution_count": null,
   "metadata": {},
   "outputs": [],
   "source": [
    "!pip3 install mysql-connector-python"
   ]
  },
  {
   "cell_type": "code",
   "execution_count": 1,
   "metadata": {},
   "outputs": [],
   "source": [
    "import mysql.connector as connector\n",
    "\n",
    "#Establishing connection with MySQL\n",
    "connection=connector.connect(user=\"admin_cap\",password=\"DBeng_capstone2023$\", db = \"LittleLemonDB\")\n",
    "\n",
    "cursor = connection.cursor()\n",
    "\n"
   ]
  },
  {
   "cell_type": "code",
   "execution_count": 2,
   "metadata": {},
   "outputs": [],
   "source": [
    "cursor.execute(\"USE LittleLemonDB\")\n",
    "\n",
    "show_tables_query = \"SHOW tables\"\n",
    "cursor.execute(show_tables_query)\n"
   ]
  },
  {
   "cell_type": "code",
   "execution_count": 3,
   "metadata": {},
   "outputs": [
    {
     "name": "stdout",
     "output_type": "stream",
     "text": [
      "('Bookings',)\n",
      "('Customers',)\n",
      "('Delivery',)\n",
      "('Menu',)\n",
      "('MenuItems',)\n",
      "('Orders',)\n",
      "('orderview',)\n",
      "('Staff',)\n"
     ]
    }
   ],
   "source": [
    "results = cursor.fetchall()\n",
    "\n",
    "\n",
    "for result in results:\n",
    "    print(result)"
   ]
  },
  {
   "cell_type": "code",
   "execution_count": 4,
   "metadata": {},
   "outputs": [
    {
     "name": "stdout",
     "output_type": "stream",
     "text": [
      "[]\n"
     ]
    }
   ],
   "source": [
    "promotional_campaign_stm = \"\"\"\n",
    "SELECT\n",
    "    c.CustomerName,\n",
    "    o.TotalCost,\n",
    "    c.PhoneNumber,\n",
    "    c.Email\n",
    "From Customers as c INNER JOIN Orders as o ON c.CustomerID = o.CustomerID\n",
    "WHERE TotalCost > 60;\n",
    " \"\"\"\n",
    "cursor.execute(promotional_campaign_stm)\n",
    "results = cursor.fetchall()\n",
    "print(results)"
   ]
  }
 ],
 "metadata": {
  "kernelspec": {
   "display_name": "Python 3",
   "language": "python",
   "name": "python3"
  },
  "language_info": {
   "codemirror_mode": {
    "name": "ipython",
    "version": 3
   },
   "file_extension": ".py",
   "mimetype": "text/x-python",
   "name": "python",
   "nbconvert_exporter": "python",
   "pygments_lexer": "ipython3",
   "version": "3.12.0"
  }
 },
 "nbformat": 4,
 "nbformat_minor": 2
}
